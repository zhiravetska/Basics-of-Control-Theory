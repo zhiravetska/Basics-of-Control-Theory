{
 "cells": [
  {
   "cell_type": "markdown",
   "id": "96ca5cfd",
   "metadata": {},
   "source": [
    "1. Proportional Gain (Kp)\n",
    "Effect:\n",
    "    Increases the speed of response (faster rise time).\n",
    "    Reduces the steady-state error.\n",
    "Drawback:\n",
    "    High Kp can lead to overshoot and oscillations.\n",
    "    Too high may cause instability.\n",
    "\n",
    "2. Integral Gain (Ki)\n",
    "Effect:\n",
    "    Eliminates steady-state error by integrating the error over time.\n",
    "Drawback:\n",
    "    Increases overshoot.\n",
    "    Can significantly slow down settling time.\n",
    "    May cause instability or oscillations if too large due to integral windup.\n",
    "\n",
    "3. Derivative Gain (Kd)\n",
    "Effect:\n",
    "\n",
    "    Predicts system behavior and adds damping.\n",
    "    Reduces overshoot and improves stability.\n",
    "    Helps reduce oscillations.\n",
    "Drawback:\n",
    "    Too high Kd can amplify noise.\n",
    "    May slow down the system if excessive."
   ]
  },
  {
   "cell_type": "markdown",
   "id": "300b888c",
   "metadata": {},
   "source": [
    "Tuning Goal Summary\n",
    "Faster rise time: Increase Kp\n",
    "\n",
    "Reduce steady-state error: Increase Ki\n",
    "\n",
    "Reduce overshoot & oscillations: Increase Kd\n",
    "\n",
    "Stable and fast settling: Careful balance of all three\n",
    "\n"
   ]
  },
  {
   "cell_type": "markdown",
   "id": "6aa3ba97",
   "metadata": {},
   "source": [
    "Here are the step response curves for different PID configurations:\n",
    "\n",
    "P-only (Kp = 5): Fast rise time but noticeable steady-state error.\n",
    "\n",
    "PI (Kp = 5, Ki = 2): Eliminates steady-state error, but introduces overshoot and slower settling.\n",
    "\n",
    "PD (Kp = 5, Kd = 10): Reduces overshoot and provides a smoother response, but still some steady-state error.\n",
    "\n",
    "Full PID (Kp = 15, Ki = 2, Kd = 10): Fast and accurate response with minimal overshoot and no steady-state error."
   ]
  },
  {
   "cell_type": "code",
   "execution_count": 3,
   "id": "818dc999",
   "metadata": {},
   "outputs": [
    {
     "data": {
      "application/vnd.jupyter.widget-view+json": {
       "model_id": "ced8ad9d4c5f4b02b9d5eb2c055e5c58",
       "version_major": 2,
       "version_minor": 0
      },
      "text/plain": [
       "VBox(children=(FloatSlider(value=5.0, description='Kp:', max=20.0, step=0.5), FloatSlider(value=1.0, descripti…"
      ]
     },
     "metadata": {},
     "output_type": "display_data"
    },
    {
     "data": {
      "application/vnd.jupyter.widget-view+json": {
       "model_id": "1bc6ddce3e4149749fef053021b339fb",
       "version_major": 2,
       "version_minor": 0
      },
      "text/plain": [
       "Output()"
      ]
     },
     "metadata": {},
     "output_type": "display_data"
    }
   ],
   "source": [
    "import numpy as np\n",
    "import matplotlib.pyplot as plt\n",
    "from scipy.integrate import odeint\n",
    "import ipywidgets as widgets\n",
    "from IPython.display import display, clear_output\n",
    "\n",
    "# Define the plant dynamics\n",
    "def plant_dynamics(x, t, u_func):\n",
    "    x1, x2 = x\n",
    "    u = u_func(t)\n",
    "    dx1dt = x2\n",
    "    dx2dt = -2 * x2 - x1 + u\n",
    "    return [dx1dt, dx2dt]\n",
    "\n",
    "# PID simulation\n",
    "def simulate_pid(Kp, Ki, Kd, t):\n",
    "    dt = t[1] - t[0]\n",
    "    e_prev = 0\n",
    "    integral = 0\n",
    "    x = [0.0, 0.0]\n",
    "    x_hist = []\n",
    "\n",
    "    for i in range(len(t)):\n",
    "        y = x[0]\n",
    "        e = 1.0 - y  # Step input\n",
    "        integral += e * dt\n",
    "        derivative = (e - e_prev) / dt if i > 0 else 0\n",
    "        u = Kp * e + Ki * integral + Kd * derivative\n",
    "        e_prev = e\n",
    "        x = odeint(plant_dynamics, x, [t[i], t[i]+dt], args=(lambda _: u,))[-1]\n",
    "        x_hist.append(x[0])\n",
    "\n",
    "    return np.array(x_hist)\n",
    "\n",
    "# Time vector\n",
    "t = np.linspace(0, 10, 1000)\n",
    "\n",
    "# Plotting function\n",
    "def plot_response(Kp, Ki, Kd):\n",
    "    y = simulate_pid(Kp, Ki, Kd, t)\n",
    "    plt.figure(figsize=(10, 5))\n",
    "    plt.plot(t, y, label=f\"Kp={Kp}, Ki={Ki}, Kd={Kd}\")\n",
    "    plt.title(\"PID Step Response\")\n",
    "    plt.xlabel(\"Time (s)\")\n",
    "    plt.ylabel(\"Output\")\n",
    "    plt.ylim(0, 2)\n",
    "    plt.grid(True)\n",
    "    plt.legend()\n",
    "    plt.show()\n",
    "\n",
    "# Create interactive widgets\n",
    "kp_slider = widgets.FloatSlider(value=5.0, min=0, max=20, step=0.5, description='Kp:')\n",
    "ki_slider = widgets.FloatSlider(value=1.0, min=0, max=10, step=0.1, description='Ki:')\n",
    "kd_slider = widgets.FloatSlider(value=1.0, min=0, max=10, step=0.1, description='Kd:')\n",
    "\n",
    "ui = widgets.VBox([kp_slider, ki_slider, kd_slider])\n",
    "out = widgets.interactive_output(plot_response, {\n",
    "    'Kp': kp_slider,\n",
    "    'Ki': ki_slider,\n",
    "    'Kd': kd_slider\n",
    "})\n",
    "\n",
    "display(ui, out)\n"
   ]
  },
  {
   "cell_type": "markdown",
   "id": "c2464bb1",
   "metadata": {},
   "source": [
    "Summary of Effects on Transient Parameters\n",
    "Parameter\tRise Time\tOvershoot\tSettling Time\tSteady-State Error\tStability\n",
    "Kp   ↑\t        ↓\t        ↑\t        ↔ / ↑\t            ↓\t            ↓ if too high\n",
    "Ki   ↑\t        ↓\t        ↑\t            ↑\t            ↓\t            ↓\n",
    "Kd   ↑\t        ↑ / ↔\t    ↓\t            ↓\t            ↔\t            ↑\n",
    "\n",
    "Tuning Goal Summary\n",
    "Faster rise time: Increase Kp\n",
    "\n",
    "Reduce steady-state error: Increase Ki\n",
    "\n",
    "Reduce overshoot & oscillations: Increase Kd\n",
    "\n",
    "Stable and fast settling: Careful balance of all three"
   ]
  }
 ],
 "metadata": {
  "kernelspec": {
   "display_name": "base",
   "language": "python",
   "name": "python3"
  },
  "language_info": {
   "codemirror_mode": {
    "name": "ipython",
    "version": 3
   },
   "file_extension": ".py",
   "mimetype": "text/x-python",
   "name": "python",
   "nbconvert_exporter": "python",
   "pygments_lexer": "ipython3",
   "version": "3.12.4"
  }
 },
 "nbformat": 4,
 "nbformat_minor": 5
}
