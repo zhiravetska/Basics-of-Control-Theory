{
 "cells": [
  {
   "cell_type": "markdown",
   "id": "ff4d31a5",
   "metadata": {},
   "source": [
    "\n",
    "# RTP (Regulēšanas teorijas pamati / Basics of Control Theory) \n",
    "# Interactive Jupyter Notebook\n",
    "\n",
    "This Notebook contains:\n",
    "- Theory on controllers (P, I, D, PI, PD)\n",
    "- Calculations with explanations\n",
    "- Interactive widgets to select parameters `m` & `n`\n",
    "- Visualisatin of Bode-plots\n",
    "\n",
    "## Necessary libraries:\n",
    "```bash\n",
    "pip install numpy matplotlib sympy ipywidgets scipy\n",
    "```\n"
   ]
  },
  {
   "cell_type": "code",
   "execution_count": 1,
   "id": "7edb2dc8",
   "metadata": {},
   "outputs": [],
   "source": [
    "\n",
    "import sympy as sp\n",
    "import numpy as np\n",
    "import matplotlib.pyplot as plt\n",
    "from ipywidgets import interact, IntSlider, FloatSlider\n",
    "from scipy import signal\n"
   ]
  },
  {
   "cell_type": "markdown",
   "id": "513d8e38",
   "metadata": {},
   "source": [
    "## 🔧 Personal parameter input\n",
    "\n",
    "Input m and n once — they will be applied for all tasks.\n",
    "\n",
    "- `m` — last-but-one number of ID\n",
    "- `n` — last number of ID\n",
    "\n"
   ]
  },
  {
   "cell_type": "code",
   "execution_count": 2,
   "id": "64f52320",
   "metadata": {},
   "outputs": [
    {
     "name": "stdout",
     "output_type": "stream",
     "text": [
      "Inputs: m = 0, n = 1\n"
     ]
    }
   ],
   "source": [
    "# Inputs for all assignments\n",
    "\n",
    "# Example: last two numbers of ID ...56 → m = 5, n = 6\n",
    "m = 0\n",
    "n = 1\n",
    "\n",
    "print(f\"Inputs: m = {m}, n = {n}\")\n"
   ]
  },
  {
   "cell_type": "code",
   "execution_count": 3,
   "id": "680b4252",
   "metadata": {},
   "outputs": [
    {
     "data": {
      "application/vnd.jupyter.widget-view+json": {
       "model_id": "7a753dca7d9c4416b8bf656013f5083d",
       "version_major": 2,
       "version_minor": 0
      },
      "text/plain": [
       "interactive(children=(IntSlider(value=0, description='m', max=9), IntSlider(value=1, description='n', max=9), …"
      ]
     },
     "metadata": {},
     "output_type": "display_data"
    }
   ],
   "source": [
    "from ipywidgets import interact, IntSlider\n",
    "\n",
    "# Initializing of global inputs (by default)\n",
    "m, n = 0, 1\n",
    "\n",
    "def update_parameters(m_slider, n_slider):\n",
    "    global m, n\n",
    "    m = m_slider\n",
    "    n = n_slider\n",
    "    print(f\"Preset conditions: m = {m}, n = {n}\")\n",
    "\n",
    "interact(update_parameters, \n",
    "         m_slider=IntSlider(value=m, min=0, max=9, description=\"m\"),\n",
    "         n_slider=IntSlider(value=n, min=0, max=9, description=\"n\"));\n"
   ]
  },
  {
   "cell_type": "markdown",
   "id": "ee5243fc",
   "metadata": {},
   "source": [
    "## Assignment 1: Proportional controller\n",
    "\n",
    "\n",
    "Amplification factor $G^*(\\omega) = mn$ dB. Input resistance $R_1 = 25\\ \\text{k}\\Omega$.  \n",
    "Calculate resistance of the feedback $R_2$,  build Bode-plot of the transfer function\n"
   ]
  },
  {
   "cell_type": "code",
   "execution_count": 4,
   "id": "c3645aab",
   "metadata": {},
   "outputs": [
    {
     "data": {
      "application/vnd.jupyter.widget-view+json": {
       "model_id": "c01d9d215df748a2892e1bb63579496e",
       "version_major": 2,
       "version_minor": 0
      },
      "text/plain": [
       "interactive(children=(IntSlider(value=1, description='m', max=9, min=1), IntSlider(value=1, description='n', m…"
      ]
     },
     "metadata": {},
     "output_type": "display_data"
    }
   ],
   "source": [
    "\n",
    "def p_controller(m=2, n=3):\n",
    "    G_db = m * n\n",
    "    R1 = 25e3\n",
    "    G = 10**(G_db / 20)\n",
    "    R2 = G * R1\n",
    "\n",
    "    print(f\"Amplification factor: {G_db} dB\")\n",
    "    print(f\"R2 = {R2:.2f} Ω\")\n",
    "\n",
    "    w = np.logspace(1, 5, 500)\n",
    "    mag = 20 * np.log10(G) * np.ones_like(w)\n",
    "    phase = np.zeros_like(w)\n",
    "\n",
    "    fig, (ax1, ax2) = plt.subplots(2, 1, figsize=(8, 6))\n",
    "    ax1.semilogx(w, mag)\n",
    "    ax1.set_title(\"Bode Magnitude\")\n",
    "    ax1.set_ylabel(\"Magnitude (dB)\")\n",
    "    ax1.grid(True, which=\"both\")\n",
    "\n",
    "    ax2.semilogx(w, phase)\n",
    "    ax2.set_title(\"Bode Phase\")\n",
    "    ax2.set_ylabel(\"Phase (deg)\")\n",
    "    ax2.set_xlabel(\"Frequency (rad/s)\")\n",
    "    ax2.grid(True, which=\"both\")\n",
    "    plt.tight_layout()\n",
    "    plt.show()\n",
    "\n",
    "interact(p_controller, m=IntSlider(1, 1, 9), n=IntSlider(1, 1, 9));\n"
   ]
  },
  {
   "cell_type": "markdown",
   "id": "7cfe8fb6",
   "metadata": {},
   "source": [
    "## Assignment 2: Integrating controller\n",
    "\n",
    "\n",
    "Amplification factor $G^*(1000) = -mn$ dB at $\\omega = 1000$ rad/sec. Feedback with capacitor $C = 0.8\\ \\mu F$.  \n",
    "Calculate input resistance R1.\n"
   ]
  },
  {
   "cell_type": "code",
   "execution_count": 5,
   "id": "b21979e8",
   "metadata": {},
   "outputs": [
    {
     "data": {
      "application/vnd.jupyter.widget-view+json": {
       "model_id": "56eb817a2b594da8a02995af2ef9be44",
       "version_major": 2,
       "version_minor": 0
      },
      "text/plain": [
       "interactive(children=(IntSlider(value=1, description='m', max=9, min=1), IntSlider(value=1, description='n', m…"
      ]
     },
     "metadata": {},
     "output_type": "display_data"
    }
   ],
   "source": [
    "\n",
    "def i_controller(m=0, n=1):\n",
    "    G_db = -m * n\n",
    "    w = 1000\n",
    "    C = 0.8e-6\n",
    "    G = 10**(G_db / 20)\n",
    "    Ti = 1 / (G * w)\n",
    "    R1 = Ti / C\n",
    "\n",
    "    print(f\"Amplification factor: {G_db} dB\")\n",
    "    print(f\"Input resistance R1 = {R1:.2f} Ω\")\n",
    "    print(f\"Integrating time constant Ti = {Ti:.3f} s\")\n",
    "\n",
    "    # Bode plot\n",
    "    system = signal.TransferFunction([1], [1, 0])\n",
    "    w, mag, phase = signal.bode(system)\n",
    "\n",
    "    plt.figure(figsize=(8, 6))\n",
    "    plt.subplot(2, 1, 1)\n",
    "    plt.semilogx(w, mag)\n",
    "    plt.title(\"Bode plot - Integrating controller\")\n",
    "    plt.ylabel(\"Magnitude (dB)\")\n",
    "    plt.grid(True, which=\"both\")\n",
    "\n",
    "    plt.subplot(2, 1, 2)\n",
    "    plt.semilogx(w, phase)\n",
    "    plt.xlabel(\"Frequency (rad/s)\")\n",
    "    plt.ylabel(\"Phase (deg)\")\n",
    "    plt.grid(True, which=\"both\")\n",
    "    plt.tight_layout()\n",
    "    plt.show()\n",
    "\n",
    "interact(i_controller, m=IntSlider(1, 1, 9), n=IntSlider(1, 1, 9));\n"
   ]
  },
  {
   "cell_type": "markdown",
   "id": "caafbf6c",
   "metadata": {},
   "source": [
    "## Assignment 3: Differentiating controller\n",
    "\n",
    "\n",
    "$G^*(70) = mn$ dB, frequency $\\omega = 70$ rad/sec. Feedback - resistor $R = 50\\ \\text{k}\\Omega$.  \n",
    "Calculate input capacitance.\n"
   ]
  },
  {
   "cell_type": "code",
   "execution_count": 6,
   "id": "7ee80b73",
   "metadata": {},
   "outputs": [
    {
     "data": {
      "application/vnd.jupyter.widget-view+json": {
       "model_id": "d3e4fafd7b9f497d89f43c1b4367b74d",
       "version_major": 2,
       "version_minor": 0
      },
      "text/plain": [
       "interactive(children=(IntSlider(value=1, description='m', max=9, min=1), IntSlider(value=1, description='n', m…"
      ]
     },
     "metadata": {},
     "output_type": "display_data"
    }
   ],
   "source": [
    "\n",
    "def d_controller(m=0, n=1):\n",
    "    G_db = m*n\n",
    "    w = 70\n",
    "    R = 50e3\n",
    "    G = 10**(G_db / 20)\n",
    "    Td = G / w\n",
    "    C = Td / R\n",
    "\n",
    "    print(f\"Amplification factor: {G_db} dB\")\n",
    "    print(f\"Required capacitance C = {C * 1e6:.2f} μF\")\n",
    "    print(f\"Dif. time constant Td = {Td:.3f} s\")\n",
    "\n",
    "    # Bode plot for derivative controller\n",
    "    num = [1, 0]\n",
    "    den = [1]\n",
    "    system = signal.TransferFunction(num, den)\n",
    "    w, mag, phase = signal.bode(system)\n",
    "\n",
    "    plt.figure(figsize=(8, 6))\n",
    "    plt.subplot(2, 1, 1)\n",
    "    plt.semilogx(w, mag)\n",
    "    plt.title(\"Bode plot - Derivative controller\")\n",
    "    plt.ylabel(\"Magnitude (dB)\")\n",
    "    plt.grid(True, which=\"both\")\n",
    "\n",
    "    plt.subplot(2, 1, 2)\n",
    "    plt.semilogx(w, phase)\n",
    "    plt.xlabel(\"Frequency (rad/s)\")\n",
    "    plt.ylabel(\"Phase (deg)\")\n",
    "    plt.grid(True, which=\"both\")\n",
    "    plt.tight_layout()\n",
    "    plt.show()\n",
    "\n",
    "interact(d_controller, m=IntSlider(1, 1, 9), n=IntSlider(1, 1, 9));\n"
   ]
  },
  {
   "cell_type": "markdown",
   "id": "19ab9d60",
   "metadata": {},
   "source": [
    "## Assignment 4: PI-controller\n",
    "\n",
    "\n",
    "PI-controller with $k=25$, $G^*(\\omega) = 20\\log_{10}(k + mn)$ dB at $\\omega = 3$ rad/sec.  \n",
    "Calculate integrating time constant $T_i$, coupling frequency and phase shift.\n"
   ]
  },
  {
   "cell_type": "code",
   "execution_count": 7,
   "id": "9b90e04b",
   "metadata": {},
   "outputs": [
    {
     "data": {
      "application/vnd.jupyter.widget-view+json": {
       "model_id": "733d0fab6adc4a5fb0996e0bc59d1f3f",
       "version_major": 2,
       "version_minor": 0
      },
      "text/plain": [
       "interactive(children=(IntSlider(value=1, description='m', max=9, min=1), IntSlider(value=1, description='n', m…"
      ]
     },
     "metadata": {},
     "output_type": "display_data"
    }
   ],
   "source": [
    "\n",
    "def pi_controller(m=0, n=1):\n",
    "    k = 25\n",
    "    w = 3\n",
    "    G_db = 20 * np.log10(k + m * n)\n",
    "    Ti = k / w\n",
    "    phase_deg = np.arctan(w * Ti) * 180 / np.pi\n",
    "    wc = 1 / Ti\n",
    "\n",
    "    print(f\"Amplification (dB): {G_db:.2f}\")\n",
    "    print(f\"Integrating time constant Ti = {Ti:.3f} s\")\n",
    "    print(f\"Coupling frequency: {wc:.2f} rad/s\")\n",
    "    print(f\"Phase shift: {phase_deg:.2f}°\")\n",
    "\n",
    "    num = [k * Ti, k]\n",
    "    den = [Ti, 0]\n",
    "    system = signal.TransferFunction(num, den)\n",
    "    w, mag, phase = signal.bode(system)\n",
    "\n",
    "    plt.figure(figsize=(8, 6))\n",
    "    plt.subplot(2, 1, 1)\n",
    "    plt.semilogx(w, mag)\n",
    "    plt.title(\"Bode plot - PI controller\")\n",
    "    plt.ylabel(\"Magnitude (dB)\")\n",
    "    plt.grid(True, which=\"both\")\n",
    "\n",
    "    plt.subplot(2, 1, 2)\n",
    "    plt.semilogx(w, phase)\n",
    "    plt.xlabel(\"Frequency (rad/s)\")\n",
    "    plt.ylabel(\"Phase (deg)\")\n",
    "    plt.grid(True, which=\"both\")\n",
    "    plt.tight_layout()\n",
    "    plt.show()\n",
    "\n",
    "interact(pi_controller, m=IntSlider(1, 1, 9), n=IntSlider(1, 1, 9));\n"
   ]
  },
  {
   "cell_type": "markdown",
   "id": "2d4b8d27",
   "metadata": {},
   "source": [
    "## Assignment 5: PD-controller\n",
    "\n",
    "\n",
    "PD-controller with $k=20$, $G^*(\\omega) = 20\\log_{10}(k + mn)$ at $\\omega = 450$ rad/s.  \n",
    "Calculate $T_d$, coupling frequency and phase shift.\n"
   ]
  },
  {
   "cell_type": "code",
   "execution_count": 8,
   "id": "3c38ce25",
   "metadata": {},
   "outputs": [
    {
     "data": {
      "application/vnd.jupyter.widget-view+json": {
       "model_id": "37333e29f9af4b768e9d737c4c29f37b",
       "version_major": 2,
       "version_minor": 0
      },
      "text/plain": [
       "interactive(children=(IntSlider(value=1, description='m', max=9, min=1), IntSlider(value=1, description='n', m…"
      ]
     },
     "metadata": {},
     "output_type": "display_data"
    }
   ],
   "source": [
    "\n",
    "def pd_controller(m=2, n=3):\n",
    "    k = 20\n",
    "    w = 450\n",
    "    G_db = 20 * np.log10(k + m * n)\n",
    "    Td = (k + m * n - k) / w\n",
    "    phase_deg = np.arctan(w * Td) * 180 / np.pi\n",
    "    wc = 1 / Td\n",
    "\n",
    "    print(f\"Amplification (dB): {G_db:.2f}\")\n",
    "    print(f\"Time contant Td = {Td:.5f} s\")\n",
    "    print(f\"Coupling frequency: {wc:.2f} rad/s\")\n",
    "    print(f\"Pgase shift: {phase_deg:.2f}°\")\n",
    "\n",
    "    num = [k * Td, k]\n",
    "    den = [1]\n",
    "    system = signal.TransferFunction(num, den)\n",
    "    w, mag, phase = signal.bode(system)\n",
    "\n",
    "    plt.figure(figsize=(8, 6))\n",
    "    plt.subplot(2, 1, 1)\n",
    "    plt.semilogx(w, mag)\n",
    "    plt.title(\"Bode plot - PD controller\")\n",
    "    plt.ylabel(\"Magnitude (dB)\")\n",
    "    plt.grid(True, which=\"both\")\n",
    "\n",
    "    plt.subplot(2, 1, 2)\n",
    "    plt.semilogx(w, phase)\n",
    "    plt.xlabel(\"Frequency (rad/s)\")\n",
    "    plt.ylabel(\"Phase (deg)\")\n",
    "    plt.grid(True, which=\"both\")\n",
    "    plt.tight_layout()\n",
    "    plt.show()\n",
    "\n",
    "interact(pd_controller, m=IntSlider(1, 1, 9), n=IntSlider(1, 1, 9));\n"
   ]
  },
  {
   "cell_type": "markdown",
   "id": "7fd287b9",
   "metadata": {},
   "source": [
    "## Assignment 6: Series connection of two aperiodic elements\n",
    "\n",
    "\n",
    "First order elements with $k_1 = 15$, $k_2 = 25$ and time constants $T_1 = 1,m$ s, $T_2 = 0,n$ s.  \n",
    "Calculate transfer function and build Bode-plot at $\\omega = 5 + m + n$ rad/s.\n"
   ]
  },
  {
   "cell_type": "code",
   "execution_count": 9,
   "id": "59944046",
   "metadata": {},
   "outputs": [
    {
     "data": {
      "application/vnd.jupyter.widget-view+json": {
       "model_id": "569745c4040043e38543c742d12ed137",
       "version_major": 2,
       "version_minor": 0
      },
      "text/plain": [
       "interactive(children=(IntSlider(value=0, description='m', max=9), IntSlider(value=0, description='n', max=9), …"
      ]
     },
     "metadata": {},
     "output_type": "display_data"
    }
   ],
   "source": [
    "\n",
    "def two_aperiodic_blocks(m=2, n=3):\n",
    "    k1, k2 = 15, 25\n",
    "    T1 = 1 + 0.1 * m\n",
    "    T2 = 0.1 * n\n",
    "    k_total = k1 * k2\n",
    "    num = [k_total]\n",
    "    den = np.convolve([T1, 1], [T2, 1])\n",
    "    system = signal.TransferFunction(num, den)\n",
    "\n",
    "    w = np.logspace(-1, 3, 500)\n",
    "    w_target = 5 + m + n\n",
    "\n",
    "    _, mag, phase = signal.bode(system, w=w)\n",
    "\n",
    "    print(f\"Transfer function: {k_total} / (({T1:.2f}s + 1)({T2:.2f}s + 1))\")\n",
    "    print(f\"Target frequency: {w_target:.2f} rad/s\")\n",
    "\n",
    "    plt.figure(figsize=(8, 6))\n",
    "    plt.subplot(2, 1, 1)\n",
    "    plt.semilogx(w, mag)\n",
    "    plt.axvline(w_target, color='r', linestyle='--')\n",
    "    plt.title(\"Bode plot - Two aperiodic blocks\")\n",
    "    plt.ylabel(\"Magnitude (dB)\")\n",
    "    plt.grid(True, which=\"both\")\n",
    "\n",
    "    plt.subplot(2, 1, 2)\n",
    "    plt.semilogx(w, phase)\n",
    "    plt.axvline(w_target, color='r', linestyle='--')\n",
    "    plt.xlabel(\"Frequency (rad/s)\")\n",
    "    plt.ylabel(\"Phase (deg)\")\n",
    "    plt.grid(True, which=\"both\")\n",
    "    plt.tight_layout()\n",
    "    plt.show()\n",
    "\n",
    "interact(two_aperiodic_blocks, m=IntSlider(0, 0, 9), n=IntSlider(0, 0, 9));\n"
   ]
  },
  {
   "cell_type": "markdown",
   "id": "c3576e17",
   "metadata": {},
   "source": [
    "## Assignment 7: Stability of second order system\n",
    "\n",
    "\n",
    "System with transfer function $W_{ob} = \\frac{3}{1 + 0,n s + 0,(1+m) s^2}$, $W_{as} = 1 - 0,n$, $k_p = 20 + m$.  \n",
    "Estimate stability and calculate the roots of charcteristic equation.\n"
   ]
  },
  {
   "cell_type": "code",
   "execution_count": 10,
   "id": "edfc6e8a",
   "metadata": {},
   "outputs": [
    {
     "name": "stdout",
     "output_type": "stream",
     "text": [
      "📌 Characteristic equation:\n",
      "     2               \n",
      "0.3⋅s  + 0.3⋅s + 47.2\n",
      "\n",
      "📉 Roots of characteristic equation:\n",
      "  λ1: -0.5000 + 12.5333j\n",
      "  λ2: -0.5000 - 12.5333j\n",
      "\n",
      "🧠 Conclusion:\n",
      "✅ The system is stable (all the roots are in left half-plane).\n"
     ]
    },
    {
     "data": {
      "image/png": "[encoded data removed]",
      "text/plain": [
       "<Figure size 600x600 with 1 Axes>"
      ]
     },
     "metadata": {},
     "output_type": "display_data"
    }
   ],
   "source": [
    "import sympy as sp\n",
    "from sympy.abc import s\n",
    "import numpy as np\n",
    "import matplotlib.pyplot as plt\n",
    "\n",
    "# === Individual variant ===\n",
    "m = 2  # last-but-one number of ID \n",
    "n = 3  # last number of ID\n",
    "\n",
    "# === Coefficients of characteristic equation ===\n",
    "a2 = 0.1 * (1 + m)\n",
    "a1 = 0.1 * n\n",
    "K = 3 * (1 - 0.1 * n) * (20 + m)\n",
    "\n",
    "# Characteristic equation:\n",
    "char_eq = a2*s**2 + a1*s + 1 + K\n",
    "print(\"📌 Characteristic equation:\")\n",
    "sp.pprint(char_eq)\n",
    "\n",
    "# === Calculation of roots ===\n",
    "coeffs = sp.Poly(char_eq, s).all_coeffs()\n",
    "coeffs = [float(c.evalf()) for c in coeffs]\n",
    "roots = np.roots(coeffs)\n",
    "\n",
    "print(\"\\n📉 Roots of characteristic equation:\")\n",
    "unstable = False\n",
    "pure_imag = False\n",
    "\n",
    "for i, r in enumerate(roots):\n",
    "    re, im = r.real, r.imag\n",
    "    print(f\"  λ{i+1}: {re:.4f} {'+' if im >= 0 else '-'} {abs(im):.4f}j\")\n",
    "    if re > 0:\n",
    "        unstable = True\n",
    "    elif np.isclose(re, 0, atol=1e-6):\n",
    "        pure_imag = True\n",
    "\n",
    "# === Estimation of stability ===\n",
    "print(\"\\n🧠 Conclusion:\")\n",
    "if unstable:\n",
    "    print(\"❌ The system is not stable (exist roots with positive real component).\")\n",
    "elif pure_imag:\n",
    "    print(\"⚠ Bordercase of stability (exist roots on imaginary axis).\")\n",
    "else:\n",
    "    print(\"✅ The system is stable (all the roots are in left half-plane).\")\n",
    "\n",
    "# === Визуализация ===\n",
    "plt.figure(figsize=(6, 6))\n",
    "plt.axhline(0, color='gray', linestyle='--')\n",
    "plt.axvline(0, color='gray', linestyle='--')\n",
    "plt.scatter(np.real(roots), np.imag(roots), color='blue', s=80)\n",
    "plt.title(\"Poles of closed system\")\n",
    "plt.xlabel(\"Re\")\n",
    "plt.ylabel(\"Im\")\n",
    "plt.grid(True)\n",
    "plt.axis('equal')\n",
    "plt.show()\n"
   ]
  },
  {
   "cell_type": "markdown",
   "id": "2c358bce",
   "metadata": {},
   "source": [
    "## Assignment 8: Stability of second order system\n",
    "\n",
    "\n",
    "System with transfer function $W_{ob} = \\frac{3}{1 + 0,n s + 0,(1+m) s^2}$, $W_{as} = 1 - 0,n$, $k_p = 20 + m$.  \n",
    "Estimate stability and calculate the roots of charcteristic equation."
   ]
  },
  {
   "cell_type": "code",
   "execution_count": 11,
   "id": "768e70cd",
   "metadata": {},
   "outputs": [
    {
     "name": "stdout",
     "output_type": "stream",
     "text": [
      "Routh table:\n",
      " [[ 1.00000000e+00  7.90000000e-01]\n",
      " [ 7.00000000e-02  9.00000000e+00]\n",
      " [-1.27781429e+02  0.00000000e+00]\n",
      " [ 9.00000000e+00  0.00000000e+00]]\n",
      "Stability: The system is NOT stable\n"
     ]
    }
   ],
   "source": [
    "# Rauss criterion for equation s^3 + 0.07s^2 + 0.79s + 9 = 0\n",
    "import numpy as np\n",
    "\n",
    "def routh_table(coeffs):\n",
    "    n = len(coeffs)\n",
    "    m = int(np.ceil(n / 2))\n",
    "    table = np.zeros((n, m))\n",
    "    table[0, :len(coeffs[::2])] = coeffs[::2]\n",
    "    table[1, :len(coeffs[1::2])] = coeffs[1::2]\n",
    "    for i in range(2, n):\n",
    "        for j in range(m - 1):\n",
    "            a, b = table[i - 2, 0], table[i - 2, j + 1]\n",
    "            c, d = table[i - 1, 0], table[i - 1, j + 1]\n",
    "            table[i, j] = ((c * b - a * d) / c) if c != 0 else 0\n",
    "    return table\n",
    "\n",
    "coeffs = [1, 0.07, 0.79, 9]\n",
    "rt = routh_table(coeffs)\n",
    "print(\"Routh table:\\n\", rt)\n",
    "print(\"Stability:\", \"The system is stable\" if np.all(rt[:,0] > 0) else \"The system is NOT stable\")\n"
   ]
  },
  {
   "cell_type": "markdown",
   "id": "d20bae04",
   "metadata": {},
   "source": [
    "## Assignment 9: Stability of second order system\n",
    "\n",
    "\n",
    "System with transfer function $W_{ob} = \\frac{3}{1 + 0,n s + 0,(1+m) s^2}$, $W_{as} = 1 - 0,n$, $k_p = 20 + m$.  \n",
    "Estimate stability and calculate the roots of charcteristic equation."
   ]
  },
  {
   "cell_type": "code",
   "execution_count": 12,
   "id": "7a9c7aea",
   "metadata": {},
   "outputs": [
    {
     "name": "stdout",
     "output_type": "stream",
     "text": [
      "Routh table:\n",
      " [[1.    6.   ]\n",
      " [4.    1.3  ]\n",
      " [5.675 0.   ]\n",
      " [1.3   0.   ]]\n",
      "Stability: The system is stable\n"
     ]
    }
   ],
   "source": [
    "from sympy.abc import s\n",
    "import sympy as sp\n",
    "\n",
    "m = 2  # is changeble\n",
    "Ti = 0.1 * (1 + m)\n",
    "char_eq = s**3 + 4*s**2 + 6*s + (1 + Ti)\n",
    "coeffs = sp.Poly(char_eq, s).all_coeffs()\n",
    "coeffs = [float(c.evalf()) for c in coeffs]\n",
    "\n",
    "def routh_table(coeffs):\n",
    "    n = len(coeffs)\n",
    "    m = int(np.ceil(n / 2))\n",
    "    table = np.zeros((n, m))\n",
    "    table[0, :len(coeffs[::2])] = coeffs[::2]\n",
    "    table[1, :len(coeffs[1::2])] = coeffs[1::2]\n",
    "    for i in range(2, n):\n",
    "        for j in range(m - 1):\n",
    "            a, b = table[i - 2, 0], table[i - 2, j + 1]\n",
    "            c, d = table[i - 1, 0], table[i - 1, j + 1]\n",
    "            table[i, j] = ((c * b - a * d) / c) if c != 0 else 0\n",
    "    return table\n",
    "\n",
    "rt = routh_table(coeffs)\n",
    "print(\"Routh table:\\n\", rt)\n",
    "print(\"Stability:\", \"The system is stable\" if np.all(rt[:,0] > 0) else \"The system is NOT stable\")\n"
   ]
  },
  {
   "cell_type": "markdown",
   "id": "30afe0c0",
   "metadata": {},
   "source": [
    "## Assignment 10: Stability of second order system\n",
    "\n",
    "\n",
    "System with transfer function $W_{ob} = \\frac{3}{1 + 0,n s + 0,(1+m) s^2}$, $W_{as} = 1 - 0,n$, $k_p = 20 + m$.  \n",
    "Estimate stability and calculate the roots of charcteristic equation."
   ]
  },
  {
   "cell_type": "code",
   "execution_count": 13,
   "id": "80b05806",
   "metadata": {},
   "outputs": [
    {
     "data": {
      "image/png": "[encoded data removed]",
      "text/plain": [
       "<Figure size 600x600 with 1 Axes>"
      ]
     },
     "metadata": {},
     "output_type": "display_data"
    }
   ],
   "source": [
    "from scipy import signal\n",
    "import matplotlib.pyplot as plt\n",
    "import numpy as np\n",
    "\n",
    "m, n = 2, 3\n",
    "k1, k2, k3 = 1 + m, 1 + n, 1 + m + n\n",
    "T1, T2, T3 = 0.1 * m, 0.1 * n, 0.1 * (m + n)\n",
    "\n",
    "num = [k1 * k2 * k3]\n",
    "den = np.convolve([T1, 1], np.convolve([T2, 1], [T3, 1]))\n",
    "system = signal.TransferFunction(num, den)\n",
    "w, H = signal.freqresp(system)\n",
    "\n",
    "Re, Im = np.real(H), np.imag(H)\n",
    "\n",
    "plt.figure(figsize=(6, 6))\n",
    "plt.plot(Re, Im, label=\"Nyquist\")\n",
    "plt.plot(-1, 0, 'ro', label=\"Critical point (-1)\")\n",
    "plt.axhline(0, color='k', linestyle='--')\n",
    "plt.axvline(0, color='k', linestyle='--')\n",
    "plt.xlabel(\"Re\")\n",
    "plt.ylabel(\"Im\")\n",
    "plt.legend()\n",
    "plt.title(\"Nyquist Plot\")\n",
    "plt.grid(True)\n",
    "plt.axis(\"equal\")\n",
    "plt.show()\n"
   ]
  },
  {
   "cell_type": "markdown",
   "id": "c36e7ac0",
   "metadata": {},
   "source": [
    "## Assignment 11: Stability of second order system\n",
    "\n",
    "\n",
    "System with transfer function $W_{ob} = \\frac{3}{1 + 0,n s + 0,(1+m) s^2}$, $W_{as} = 1 - 0,n$, $k_p = 20 + m$.  \n",
    "Estimate stability and calculate the roots of charcteristic equation."
   ]
  },
  {
   "cell_type": "code",
   "execution_count": null,
   "id": "e6778dfd",
   "metadata": {},
   "outputs": [
    {
     "name": "stdout",
     "output_type": "stream",
     "text": [
      "🔍 Search for minimum stable k...\n",
      "❌ Stable value of k is not found within the set range.\n",
      "Roots of the characteristic equation at k = None:\n",
      "  root 1: -0.0350 + 0.8881j\n",
      "  root 2: -0.0350 - 0.8881j\n",
      "  root 3: 0.0000 + 0.0000j\n"
     ]
    },
    {
     "data": {
      "image/png": "[encoded data removed]",
      "text/plain": [
       "<Figure size 600x600 with 1 Axes>"
      ]
     },
     "metadata": {},
     "output_type": "display_data"
    }
   ],
   "source": [
    "import numpy as np\n",
    "import sympy as sp\n",
    "from sympy.abc import s\n",
    "\n",
    "# === 1. Rauss table ===\n",
    "def routh_table(coeffs):\n",
    "    n = len(coeffs)\n",
    "    m = int(np.ceil(n / 2))\n",
    "    table = np.zeros((n, m))\n",
    "    table[0, :len(coeffs[::2])] = coeffs[::2]\n",
    "    table[1, :len(coeffs[1::2])] = coeffs[1::2]\n",
    "    for i in range(2, n):\n",
    "        for j in range(m - 1):\n",
    "            a, b = table[i - 2, 0], table[i - 2, j + 1]\n",
    "            c, d = table[i - 1, 0], table[i - 1, j + 1]\n",
    "            table[i, j] = ((c * b - a * d) / c) if c != 0 else 0\n",
    "    return table\n",
    "\n",
    "def is_stable(coeffs):\n",
    "    table = routh_table(coeffs)\n",
    "    return np.all(table[:, 0] > 0)\n",
    "\n",
    "# === 2. Minimum stable k ===\n",
    "print(\"🔍 Search for minimum stable k...\")\n",
    "\n",
    "k_found = None\n",
    "for k in np.linspace(0.1, 20, 400):\n",
    "    coeffs = [1, 0.07, 0.79, k]\n",
    "    if is_stable(coeffs):\n",
    "        k_found = round(k, 3)\n",
    "        break\n",
    "\n",
    "if k_found is not None:\n",
    "    print(f\"✅ The system if stable at k = {k_found}\")\n",
    "\n",
    "    # === 3. Calculation of static error ===\n",
    "    K = sp.Symbol('K', positive=True)\n",
    "    W_s = K / (s**3 + 0.07*s**2 + 0.79*s + K)\n",
    "    W_stable = W_s.subs(K, k_found)\n",
    "    ess = sp.limit(1 / (1 + W_stable), s, 0)\n",
    "\n",
    "\n",
    "\n",
    "    print(f\"📉 Static error εst = {ess.evalf():.5f}\")\n",
    "else:\n",
    "    print(\"❌ Stable value of k is not found within the set range.\")\n",
    "\n",
    "import matplotlib.pyplot as plt\n",
    "\n",
    "# Roots of the characteristic equation\n",
    "coeffs_k = [1, 0.07, 0.79, k_found]\n",
    "roots = np.roots(coeffs_k)\n",
    "\n",
    "print(f\"Roots of the characteristic equation at k = {k_found}:\")\n",
    "for i, r in enumerate(roots):\n",
    "    print(f\"  root {i+1}: {r.real:.4f} {'+' if r.imag >= 0 else '-'} {abs(r.imag):.4f}j\")\n",
    "\n",
    "# Plots\n",
    "plt.figure(figsize=(6, 6))\n",
    "plt.axhline(0, color='gray', linestyle='--')\n",
    "plt.axvline(0, color='gray', linestyle='--')\n",
    "plt.scatter(np.real(roots), np.imag(roots), color='red', s=80)\n",
    "plt.title(\"Poles of the system (roots of the characteristic equation)\")\n",
    "plt.xlabel(\"Re\")\n",
    "plt.ylabel(\"Im\")\n",
    "plt.grid(True)\n",
    "plt.axis('equal')\n",
    "plt.show()\n",
    "\n"
   ]
  }
 ],
 "metadata": {
  "kernelspec": {
   "display_name": "base",
   "language": "python",
   "name": "python3"
  },
  "language_info": {
   "codemirror_mode": {
    "name": "ipython",
    "version": 3
   },
   "file_extension": ".py",
   "mimetype": "text/x-python",
   "name": "python",
   "nbconvert_exporter": "python",
   "pygments_lexer": "ipython3",
   "version": "3.12.4"
  }
 },
 "nbformat": 4,
 "nbformat_minor": 5
}
